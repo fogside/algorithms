{
 "cells": [
  {
   "cell_type": "markdown",
   "metadata": {},
   "source": [
    "# Генерация ДНК последовательности с помощью марковской цепи"
   ]
  },
  {
   "cell_type": "markdown",
   "metadata": {},
   "source": [
    "В качестве референсного генома возьмем геном 13 хромосомы человека (но только часть).\n",
    "\n",
    "Файл скачан отсюда: [link](http://hgdownload.cse.ucsc.edu/goldenPath/hg38/chromosomes/)"
   ]
  },
  {
   "cell_type": "markdown",
   "metadata": {},
   "source": [
    "## Нахождение матрицы переходов\n",
    "\n",
    "Подсчет частот встречаемости пар нуклеотидов для создания матрицы переходов для создания Цепи Маркова."
   ]
  },
  {
   "cell_type": "code",
   "execution_count": 7,
   "metadata": {},
   "outputs": [
    {
     "name": "stdout",
     "output_type": "stream",
     "text": [
      ">chr13_KI270838v1_alt\r\n",
      "GTAGGGACGACCTAGATGGAATCGGAGGGCATTGGGAGCATTCAGCACAG\r\n",
      "AGGCTTTCAAACGTGGGGCACTTTCTTTGGATGGAAGCAAAGGGGAAACC\r\n",
      "CCCCGAAGTCCCCCCGCACGGCTGCCATGCAGGCTCAGGGTCAGGTTCTC\r\n",
      "CTCCTTCAAGGCTGGAGTGCCTGGGCTCCATCGTCAGCCTCCTTCTCCAC\r\n",
      "CTGCGTTGGTTCCTTAGCCAAAGCCATCCAGTCCGGGCCTGCAGCTGGGA\r\n",
      "GACAGGGAAGAAGAGGATGTGTGGGGCCCGTGGCACTTGACCTGGGTGAC\r\n",
      "ATGAGGGTCACTTCAAACACGGCCAGTGTGCAGCCTCCCAGGTCCCTGAG\r\n",
      "GTCGGCGTCTCCGGGTCAACCCTTAGTGACATCTCCAGGCCCAGGTGGCC\r\n",
      "TTGAAGTGTGGACACAGGTGGGCACCACTGGGACAAGCAGCCGTTCCCAC\r\n"
     ]
    }
   ],
   "source": [
    "!head generating_dna/chr13_KI270838v1_alt.fa"
   ]
  },
  {
   "cell_type": "code",
   "execution_count": 17,
   "metadata": {},
   "outputs": [
    {
     "name": "stdout",
     "output_type": "stream",
     "text": [
      "Количество нуклеотидов в файле:  306913\n"
     ]
    }
   ],
   "source": [
    "with open('generating_dna/chr13_KI270838v1_alt.fa') as fn:\n",
    "    lines = fn.readlines()[1:]\n",
    "data = ''.join([line.strip().upper() for line in lines])\n",
    "print('Количество нуклеотидов в файле: ', len(data))"
   ]
  },
  {
   "cell_type": "markdown",
   "metadata": {},
   "source": [
    "Для подсчета биграм удобно использовать nltk пакет.\n",
    "\n",
    "Он разбивает всю строку на перекрывающиеся биграмы.\n",
    "\n",
    "Затем подсчитываем количество таких биграм с помощью Counter."
   ]
  },
  {
   "cell_type": "code",
   "execution_count": 27,
   "metadata": {},
   "outputs": [],
   "source": [
    "import nltk\n",
    "from nltk import bigrams\n",
    "\n",
    "string_bigrams = bigrams(data)"
   ]
  },
  {
   "cell_type": "code",
   "execution_count": 18,
   "metadata": {},
   "outputs": [],
   "source": [
    "from collections import Counter"
   ]
  },
  {
   "cell_type": "code",
   "execution_count": 28,
   "metadata": {},
   "outputs": [],
   "source": [
    "c = Counter(string_bigrams)"
   ]
  },
  {
   "cell_type": "code",
   "execution_count": 34,
   "metadata": {},
   "outputs": [
    {
     "data": {
      "text/plain": [
       "Counter({('A', 'A'): 24653,\n",
       "         ('A', 'C'): 16332,\n",
       "         ('A', 'G'): 23049,\n",
       "         ('A', 'T'): 19623,\n",
       "         ('C', 'A'): 25437,\n",
       "         ('C', 'C'): 20474,\n",
       "         ('C', 'G'): 4863,\n",
       "         ('C', 'T'): 20715,\n",
       "         ('G', 'A'): 18902,\n",
       "         ('G', 'C'): 16086,\n",
       "         ('G', 'G'): 20221,\n",
       "         ('G', 'T'): 15668,\n",
       "         ('T', 'A'): 14665,\n",
       "         ('T', 'C'): 18598,\n",
       "         ('T', 'G'): 22743,\n",
       "         ('T', 'T'): 24883})"
      ]
     },
     "execution_count": 34,
     "metadata": {},
     "output_type": "execute_result"
    }
   ],
   "source": [
    "c"
   ]
  },
  {
   "cell_type": "code",
   "execution_count": 40,
   "metadata": {},
   "outputs": [
    {
     "name": "stdout",
     "output_type": "stream",
     "text": [
      "{'A': {'A': 0.2946914185304278,\n",
      "       'C': 0.1952257432133593,\n",
      "       'G': 0.2755178885209845,\n",
      "       'T': 0.23456494973522837},\n",
      " 'C': {'A': 0.35581697883590485,\n",
      "       'C': 0.2863937109205612,\n",
      "       'G': 0.0680244513141882,\n",
      "       'T': 0.2897648589293458},\n",
      " 'G': {'A': 0.2666873597923163,\n",
      "       'C': 0.22695655854508515,\n",
      "       'G': 0.2852970639276493,\n",
      "       'T': 0.22105901773494926},\n",
      " 'T': {'A': 0.18129782788759904,\n",
      "       'C': 0.22992001384613484,\n",
      "       'G': 0.281163075325446,\n",
      "       'T': 0.30761908294082013}}\n"
     ]
    }
   ],
   "source": [
    "# Переведем частоты в вероятности \n",
    "\n",
    "from pprint import pprint\n",
    "transition_dict = {\n",
    "    'A':{},\n",
    "    'T':{},\n",
    "    'G':{},\n",
    "    'C':{}\n",
    "}\n",
    "\n",
    "for pair, freq in c.items():\n",
    "    transition_dict[pair[0]][pair[1]] = freq\n",
    "\n",
    "for k, voc in transition_dict.items():\n",
    "    norm_sum = sum(voc.values())\n",
    "    for k1, freq in voc.items():\n",
    "        transition_dict[k][k1] = freq/norm_sum\n",
    "\n",
    "pprint(transition_dict)"
   ]
  },
  {
   "cell_type": "code",
   "execution_count": 44,
   "metadata": {},
   "outputs": [],
   "source": [
    "mapping = {0:'A', 1:'T', 2:'G', 3:'C'}"
   ]
  },
  {
   "cell_type": "markdown",
   "metadata": {},
   "source": [
    "# Непосредственная генерация"
   ]
  },
  {
   "cell_type": "code",
   "execution_count": 42,
   "metadata": {},
   "outputs": [
    {
     "data": {
      "text/plain": [
       "[0.25, 0.25, 0.25, 0.25]"
      ]
     },
     "execution_count": 42,
     "metadata": {},
     "output_type": "execute_result"
    }
   ],
   "source": [
    "# распределение изначальных\n",
    "# вероятностей нахождения в состояниях A,T,G,C\n",
    "# возьмем равновероятными\n",
    "initial_probabilities = [0.25]*4\n",
    "initial_probabilities"
   ]
  },
  {
   "cell_type": "markdown",
   "metadata": {},
   "source": [
    "Каждый столбец `j` матрицы переходов задает распределение вероятностей перехода из состояния `j` (согласно `mapping`) во все 4 состояния.\n",
    "\n",
    "Т.е. сумма по столбцу в `transition_matrix` равна 1. "
   ]
  },
  {
   "cell_type": "code",
   "execution_count": 48,
   "metadata": {},
   "outputs": [
    {
     "data": {
      "text/plain": [
       "array([[ 0.29469142,  0.18129783,  0.26668736,  0.35581698],\n",
       "       [ 0.23456495,  0.30761908,  0.22105902,  0.28976486],\n",
       "       [ 0.27551789,  0.28116308,  0.28529706,  0.06802445],\n",
       "       [ 0.19522574,  0.22992001,  0.22695656,  0.28639371]])"
      ]
     },
     "execution_count": 48,
     "metadata": {},
     "output_type": "execute_result"
    }
   ],
   "source": [
    "import numpy as np\n",
    "transition_matrix = np.zeros((4,4))\n",
    "\n",
    "for j in range(4):\n",
    "    for i in range(4):\n",
    "        transition_matrix[i][j] = transition_dict[mapping[j]][mapping[i]]\n",
    "transition_matrix"
   ]
  },
  {
   "cell_type": "markdown",
   "metadata": {},
   "source": [
    "Используем `np.random.choice()` для сэмплирования из распределения.\n",
    "\n",
    "Исходя из Марковского предположения, на каждой итерации текущий вектор распределений $P_n$ определяется лишь предыдущим состоянием:"
   ]
  },
  {
   "cell_type": "code",
   "execution_count": 59,
   "metadata": {},
   "outputs": [
    {
     "name": "stdout",
     "output_type": "stream",
     "text": [
      "CTCCGGACAGTGGACCAACCTGGTGCTGGG"
     ]
    }
   ],
   "source": [
    "sequence_length = 30\n",
    "P = initial_probabilities\n",
    "\n",
    "for i in range(sequence_length):\n",
    "    letter = np.random.choice(np.arange(4), p=P)\n",
    "    print(mapping[letter],end='', sep='')\n",
    "    P = transition_matrix[:, letter]"
   ]
  },
  {
   "cell_type": "code",
   "execution_count": null,
   "metadata": {},
   "outputs": [],
   "source": []
  }
 ],
 "metadata": {
  "kernelspec": {
   "display_name": "Python 3",
   "language": "python",
   "name": "python3"
  },
  "language_info": {
   "codemirror_mode": {
    "name": "ipython",
    "version": 3
   },
   "file_extension": ".py",
   "mimetype": "text/x-python",
   "name": "python",
   "nbconvert_exporter": "python",
   "pygments_lexer": "ipython3",
   "version": "3.5.2"
  }
 },
 "nbformat": 4,
 "nbformat_minor": 2
}
